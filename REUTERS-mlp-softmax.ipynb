{
 "cells": [
  {
   "cell_type": "markdown",
   "metadata": {},
   "source": [
    "# 3.5 뉴스 기사 분류: 다중 분류 문제 예제"
   ]
  },
  {
   "cell_type": "markdown",
   "metadata": {},
   "source": [
    "3.5.1 이 예제에서 사용되는 데이터가 무엇인가?\n",
    " - 로이터는 영국에서 정보를 제공하는 기업이며 제공받는 데이터는 46개의 각기 다른 장르의 짧은 뉴스와 토픽으로 이루어진 데이터셋입니다.\n",
    " - 데이터셋은 8982개의 훈련 샘플과 2246개의 테스트 샘플을 가지고 있습니다.\n",
    " - 레이블은 토픽의 인덱스로 0과 45 사이의 정수를 가지고 있습니다."
   ]
  },
  {
   "cell_type": "markdown",
   "metadata": {},
   "source": [
    "3.5.2 이 예제에서 예측하고자 하는 방법/방향이 무엇인가?\n",
    " - 입력되는 특정 토픽의 문서들이 어느 장르를 다루고 있는 문서인지를 분류하는 방법을 학습시키고자하는 예제입니다."
   ]
  },
  {
   "cell_type": "markdown",
   "metadata": {},
   "source": [
    "3.5.3 이 예제에서 학습을 위해 데이터가 어떻게 가공/처리 되었는가?\n",
    " - 3.4와 비슷한 형태로 데이터셋이 이루어져있기 때문에 3,4와 같이 원-핫 인코딩처리를 하여 데이터를 학습이 될 수 있도록 가공하였습니다.\n",
    " - 레이블 데이터는 이전 예제와 다르게 스칼라 데이터가 아니기 때문에 레이블을 벡터로 변경하기 위해서 원-핫 인코딩처리를 하였습니다."
   ]
  },
  {
   "cell_type": "markdown",
   "metadata": {},
   "source": [
    "3.5.4 사용된 모델의 입력층과 출력층이 무엇인가?\n",
    " - 입력층은 앞 예제와 비슷하게 벡터로 변환된 데이터(각 토픽에 존재하는 문자의 인덱스)가 입력되는 층입니다.\n",
    " - 출력층은 각 토픽에 대한 확률 분포를 반환하는 층입니다."
   ]
  },
  {
   "cell_type": "code",
   "execution_count": 1,
   "metadata": {},
   "outputs": [
    {
     "name": "stderr",
     "output_type": "stream",
     "text": [
      "Using TensorFlow backend.\n"
     ]
    }
   ],
   "source": [
    "from keras.datasets import reuters\n",
    "from keras.utils.np_utils import to_categorical\n",
    "from keras import models\n",
    "from keras import layers\n",
    "import matplotlib.pyplot as plt\n",
    "import numpy as np\n",
    "\n",
    "def vectorize_sequences(sequences, dimension=10000):\n",
    "    results = np.zeros((len(sequences), dimension))\n",
    "    for i, sequence in enumerate(sequences):\n",
    "        results[i, sequence] = 1.\n",
    "    return results\n",
    "\n",
    "#자주 등장하는 단어를 10000개로 두었으며 트레이닝 데이터는 8,982개 데이터를 가지고 있으며 테스트 데이터는  2,246개 데이터를 가지고 있음\n",
    "#레이블은 토픽의 인덱스인 0 ~ 45의 정수를 가지고 있음\n",
    "(train_data, train_labels), (test_data, test_labels) = reuters.load_data(num_words=10000)"
   ]
  },
  {
   "cell_type": "code",
   "execution_count": 2,
   "metadata": {},
   "outputs": [],
   "source": [
    "# 훈련 데이터 벡터 변환\n",
    "x_train = vectorize_sequences(train_data)\n",
    "# 테스트 데이터 벡터 변환\n",
    "x_test = vectorize_sequences(test_data)\n",
    "# 원-핫 인코딩을 진행\n",
    "one_hot_train_labels = to_categorical(train_labels)\n",
    "one_hot_test_labels = to_categorical(test_labels)"
   ]
  },
  {
   "cell_type": "code",
   "execution_count": 4,
   "metadata": {},
   "outputs": [],
   "source": [
    "# 모델 구성\n",
    "model = models.Sequential()\n",
    "model.add(layers.Dense(64, activation='relu', input_shape=(10000,)))\n",
    "model.add(layers.Dense(64, activation='relu'))\n",
    "#확률의 분포를 나타내기 위해서 softmax활성화 함수를 이용\n",
    "model.add(layers.Dense(46, activation='softmax'))"
   ]
  },
  {
   "cell_type": "code",
   "execution_count": 5,
   "metadata": {},
   "outputs": [],
   "source": [
    "#모델 컴파일\n",
    "model.compile(optimizer='rmsprop',\n",
    "              loss='categorical_crossentropy',\n",
    "              metrics=['accuracy'])"
   ]
  },
  {
   "cell_type": "code",
   "execution_count": 6,
   "metadata": {},
   "outputs": [],
   "source": [
    "#훈련 데이터 중 1000개의 데이터를 샘플데이터로 이용\n",
    "x_val = x_train[:1000]\n",
    "partial_x_train = x_train[1000:]\n",
    "\n",
    "y_val = one_hot_train_labels[:1000]\n",
    "partial_y_train = one_hot_train_labels[1000:]"
   ]
  },
  {
   "cell_type": "code",
   "execution_count": 7,
   "metadata": {},
   "outputs": [
    {
     "name": "stdout",
     "output_type": "stream",
     "text": [
      "Train on 7982 samples, validate on 1000 samples\n",
      "Epoch 1/20\n",
      "7982/7982 [==============================] - 3s 324us/step - loss: 2.4997 - acc: 0.4899 - val_loss: 1.6813 - val_acc: 0.6480\n",
      "Epoch 2/20\n",
      "7982/7982 [==============================] - 2s 233us/step - loss: 1.3912 - acc: 0.7040 - val_loss: 1.2783 - val_acc: 0.7190\n",
      "Epoch 3/20\n",
      "7982/7982 [==============================] - 2s 237us/step - loss: 1.0483 - acc: 0.7699 - val_loss: 1.1175 - val_acc: 0.7630\n",
      "Epoch 4/20\n",
      "7982/7982 [==============================] - 2s 227us/step - loss: 0.8241 - acc: 0.8281 - val_loss: 1.0219 - val_acc: 0.7760\n",
      "Epoch 5/20\n",
      "7982/7982 [==============================] - 2s 236us/step - loss: 0.6595 - acc: 0.8634 - val_loss: 0.9726 - val_acc: 0.7940\n",
      "Epoch 6/20\n",
      "7982/7982 [==============================] - 2s 233us/step - loss: 0.5248 - acc: 0.8938 - val_loss: 0.9206 - val_acc: 0.8110\n",
      "Epoch 7/20\n",
      "7982/7982 [==============================] - 2s 226us/step - loss: 0.4286 - acc: 0.9118 - val_loss: 0.9121 - val_acc: 0.8020\n",
      "Epoch 8/20\n",
      "7982/7982 [==============================] - 2s 233us/step - loss: 0.3494 - acc: 0.9280 - val_loss: 0.8941 - val_acc: 0.8170\n",
      "Epoch 9/20\n",
      "7982/7982 [==============================] - 2s 238us/step - loss: 0.2891 - acc: 0.9386 - val_loss: 0.9138 - val_acc: 0.8060\n",
      "Epoch 10/20\n",
      "7982/7982 [==============================] - 2s 233us/step - loss: 0.2449 - acc: 0.9453 - val_loss: 0.9125 - val_acc: 0.8130\n",
      "Epoch 11/20\n",
      "7982/7982 [==============================] - 2s 225us/step - loss: 0.2105 - acc: 0.9486 - val_loss: 0.9516 - val_acc: 0.8120\n",
      "Epoch 12/20\n",
      "7982/7982 [==============================] - 2s 231us/step - loss: 0.1880 - acc: 0.9531 - val_loss: 0.9608 - val_acc: 0.8040\n",
      "Epoch 13/20\n",
      "7982/7982 [==============================] - 2s 235us/step - loss: 0.1658 - acc: 0.9529 - val_loss: 0.9986 - val_acc: 0.7950\n",
      "Epoch 14/20\n",
      "7982/7982 [==============================] - 2s 236us/step - loss: 0.1535 - acc: 0.9554 - val_loss: 0.9806 - val_acc: 0.8050\n",
      "Epoch 15/20\n",
      "7982/7982 [==============================] - 2s 237us/step - loss: 0.1455 - acc: 0.9553 - val_loss: 1.0185 - val_acc: 0.8030\n",
      "Epoch 16/20\n",
      "7982/7982 [==============================] - 2s 266us/step - loss: 0.1331 - acc: 0.9553 - val_loss: 1.0406 - val_acc: 0.7980\n",
      "Epoch 17/20\n",
      "7982/7982 [==============================] - 2s 226us/step - loss: 0.1256 - acc: 0.9558 - val_loss: 1.0494 - val_acc: 0.7960\n",
      "Epoch 18/20\n",
      "7982/7982 [==============================] - 2s 232us/step - loss: 0.1172 - acc: 0.9563 - val_loss: 1.0371 - val_acc: 0.8120\n",
      "Epoch 19/20\n",
      "7982/7982 [==============================] - 2s 228us/step - loss: 0.1161 - acc: 0.9570 - val_loss: 1.0304 - val_acc: 0.8060\n",
      "Epoch 20/20\n",
      "7982/7982 [==============================] - 2s 225us/step - loss: 0.1138 - acc: 0.9583 - val_loss: 1.0498 - val_acc: 0.8020\n"
     ]
    }
   ],
   "source": [
    "#훈련 시작\n",
    "history = model.fit(partial_x_train,\n",
    "                    partial_y_train,\n",
    "                    epochs=20,\n",
    "                    batch_size=512,\n",
    "                    validation_data=(x_val, y_val))"
   ]
  },
  {
   "cell_type": "code",
   "execution_count": 8,
   "metadata": {},
   "outputs": [
    {
     "data": {
      "image/png": "[encoded data removed]",
      "text/plain": [
       "<Figure size 432x288 with 1 Axes>"
      ]
     },
     "metadata": {
      "needs_background": "light"
     },
     "output_type": "display_data"
    }
   ],
   "source": [
    "#손실 데이터 그래프로 확인\n",
    "loss = history.history['loss']\n",
    "val_loss = history.history['val_loss']\n",
    "\n",
    "epochs = range(1, len(loss) + 1)\n",
    "\n",
    "plt.plot(epochs, loss, 'bo', label='Training loss')\n",
    "plt.plot(epochs, val_loss, 'b', label='Validation loss')\n",
    "plt.title('Training and validation loss')\n",
    "plt.xlabel('Epochs')\n",
    "plt.ylabel('Loss')\n",
    "plt.legend()\n",
    "\n",
    "plt.show()"
   ]
  },
  {
   "cell_type": "code",
   "execution_count": 9,
   "metadata": {},
   "outputs": [
    {
     "data": {
      "text/plain": [
       "<Figure size 432x288 with 0 Axes>"
      ]
     },
     "metadata": {},
     "output_type": "display_data"
    }
   ],
   "source": [
    "# 그래프를 초기화\n",
    "plt.clf()   "
   ]
  },
  {
   "cell_type": "code",
   "execution_count": 10,
   "metadata": {},
   "outputs": [
    {
     "data": {
      "image/png": "[encoded data removed]",
      "text/plain": [
       "<Figure size 432x288 with 1 Axes>"
      ]
     },
     "metadata": {
      "needs_background": "light"
     },
     "output_type": "display_data"
    }
   ],
   "source": [
    "# 정확도를 그래프로 확인\n",
    "acc = history.history['acc']\n",
    "val_acc = history.history['val_acc']\n",
    "\n",
    "plt.plot(epochs, acc, 'bo', label='Training acc')\n",
    "plt.plot(epochs, val_acc, 'b', label='Validation acc')\n",
    "plt.title('Training and validation accuracy')\n",
    "plt.xlabel('Epochs')\n",
    "plt.ylabel('Accuracy')\n",
    "plt.legend()\n",
    "\n",
    "plt.show()"
   ]
  },
  {
   "cell_type": "code",
   "execution_count": 11,
   "metadata": {},
   "outputs": [
    {
     "data": {
      "text/plain": [
       "<Figure size 432x288 with 0 Axes>"
      ]
     },
     "metadata": {},
     "output_type": "display_data"
    }
   ],
   "source": [
    "# 그래프를 초기화\n",
    "plt.clf()  "
   ]
  },
  {
   "cell_type": "code",
   "execution_count": 12,
   "metadata": {},
   "outputs": [
    {
     "data": {
      "image/png": "[encoded data removed]",
      "text/plain": [
       "<Figure size 432x288 with 1 Axes>"
      ]
     },
     "metadata": {
      "needs_background": "light"
     },
     "output_type": "display_data"
    }
   ],
   "source": [
    "#정확도를 그래프로 표시\n",
    "plt.plot(epochs, acc, 'bo', label='Training acc')\n",
    "plt.plot(epochs, val_acc, 'b', label='Validation acc')\n",
    "plt.title('Training and validation accuracy')\n",
    "plt.xlabel('Epochs')\n",
    "plt.ylabel('Accuracy')\n",
    "plt.legend()\n",
    "\n",
    "plt.show()"
   ]
  },
  {
   "cell_type": "code",
   "execution_count": 19,
   "metadata": {},
   "outputs": [
    {
     "name": "stdout",
     "output_type": "stream",
     "text": [
      "2246/2246 [==============================] - 1s 343us/step\n"
     ]
    },
    {
     "data": {
      "text/plain": [
       "[1.2097975579310185, 0.7791629564199507]"
      ]
     },
     "execution_count": 19,
     "metadata": {},
     "output_type": "execute_result"
    }
   ],
   "source": [
    "# 테스트 값을 이용하여 예측 후 데이터 결과 확인\n",
    "results = model.evaluate(x_test, one_hot_test_labels)\n",
    "results"
   ]
  },
  {
   "cell_type": "markdown",
   "metadata": {},
   "source": [
    "# 3.5 예제 종료"
   ]
  },
  {
   "cell_type": "code",
   "execution_count": null,
   "metadata": {},
   "outputs": [],
   "source": []
  }
 ],
 "metadata": {
  "kernelspec": {
   "display_name": "Python 3",
   "language": "python",
   "name": "python3"
  },
  "language_info": {
   "codemirror_mode": {
    "name": "ipython",
    "version": 3
   },
   "file_extension": ".py",
   "mimetype": "text/x-python",
   "name": "python",
   "nbconvert_exporter": "python",
   "pygments_lexer": "ipython3",
   "version": "3.6.8"
  }
 },
 "nbformat": 4,
 "nbformat_minor": 2
}
