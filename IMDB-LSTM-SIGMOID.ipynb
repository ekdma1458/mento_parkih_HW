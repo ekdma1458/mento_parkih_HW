{
 "cells": [
  {
   "cell_type": "markdown",
   "metadata": {},
   "source": [
    "# IMDB-LSTM-SIGMOD"
   ]
  },
  {
   "cell_type": "markdown",
   "metadata": {},
   "source": [
    "아래의 내용을 실행하고 나온 결과 값입니다.\n",
    "[0.9644113788795471, 0.834719999961853]"
   ]
  },
  {
   "cell_type": "markdown",
   "metadata": {},
   "source": [
    "1. 실제 데이터에 대한 상세 기술 \n",
    " - IMDB(인터넷 영화 데이터베이스)의 데이터에서 제공한 데이터들 중 양극단(긍정적,부정적) 리뷰의 단어들의 데이터셋입니다.\n",
    " - 훈련 데이터로는 2만 5000개의 데이터와 같은 수의 테스트 데이터로 구성되어 있으며 훈련 데이터를 2만개와 검증 데이터 5천개로 나누어 진행할    것입니다.\n",
    " - 데이터의 내용은 빈도수가 가장 높은 5000개 단어들로 구성하였습니다."
   ]
  },
  {
   "cell_type": "code",
   "execution_count": 1,
   "metadata": {},
   "outputs": [
    {
     "name": "stderr",
     "output_type": "stream",
     "text": [
      "Using TensorFlow backend.\n"
     ]
    }
   ],
   "source": [
    "#imdb에서 제공하는 데이터를 가져온는 과정\n",
    "from keras.datasets import imdb\n",
    "from keras.preprocessing import sequence\n",
    "from keras.models import Sequential\n",
    "from keras.layers import Dense, Embedding, LSTM\n",
    "from keras.layers import Flatten\n",
    "from keras.utils.np_utils import to_categorical\n",
    "import numpy as np\n",
    "\n",
    "max_features = 5000\n",
    "text_max_words = 200\n",
    "\n",
    "(train_data, train_labels), (test_data, test_labels) = imdb.load_data(num_words=max_features)\n",
    "\n"
   ]
  },
  {
   "cell_type": "code",
   "execution_count": 2,
   "metadata": {},
   "outputs": [
    {
     "name": "stdout",
     "output_type": "stream",
     "text": [
      "트레이닝 데이터 : 25000\n",
      "테스트 데이터 : 25000\n"
     ]
    }
   ],
   "source": [
    "#가져온 데이터의 갯수 파악\n",
    "print(\"트레이닝 데이터 :\", len(train_data))\n",
    "print(\"테스트 데이터 :\", len(test_data))"
   ]
  },
  {
   "cell_type": "code",
   "execution_count": 3,
   "metadata": {},
   "outputs": [
    {
     "name": "stdout",
     "output_type": "stream",
     "text": [
      "긍정적인 내용\n"
     ]
    },
    {
     "data": {
      "text/plain": [
       "\"? this film was just brilliant casting location scenery story direction everyone's really suited the part they played and you could just imagine being there robert ? is an amazing actor and now the same being director ? father came from the same scottish island as myself so i loved the fact there was a real connection with this film the witty remarks throughout the film were great it was just brilliant so much that i bought the film as soon as it was released for ? and would recommend it to everyone to watch and the fly ? was amazing really cried at the end it was so sad and you know what they say if you cry at a film it must have been good and this definitely was also ? to the two little ? that played the ? of norman and paul they were just brilliant children are often left out of the ? list i think because the stars that play them all grown up are such a big ? for the whole film but these children are amazing and should be ? for what they have done don't you think the whole story was so lovely because it was true and was someone's life after all that was ? with us all\""
      ]
     },
     "execution_count": 3,
     "metadata": {},
     "output_type": "execute_result"
    }
   ],
   "source": [
    "# 데이터 내용을 확인하기 위하여 index를 매핑시킬 수 있는 딕셔너리 생성\n",
    "word_index = imdb.get_word_index()\n",
    "reverse_word_index = dict([(value, key) for (key, value) in word_index.items()])\n",
    "# 첫번째 데이터에 있는 문자 확인과 이 내용이 긍정적인지 부정적인지 같은 인덱스에 존재하는 레이블을 이용하여 확인\n",
    "decoded_review = ' '.join([reverse_word_index.get(i - 3, '?') for i in train_data[0]])\n",
    "\n",
    "if train_labels[0] == 1 :\n",
    "    print(\"긍정적인 내용\")\n",
    "else:\n",
    "    print(\"부정적인 내용\")\n",
    "decoded_review"
   ]
  },
  {
   "cell_type": "markdown",
   "metadata": {},
   "source": [
    "2. 예측하고자 하는 방법/방향 기술 \n",
    " - 특정한 단어의 집합으로 이루어진 양극단 데이터를 학습시킨 모델에 데이터를 입력할 때에 그 데이터가 긍정인지 부정인지 예측하기위하여 진행    하였습니다."
   ]
  },
  {
   "cell_type": "code",
   "execution_count": 4,
   "metadata": {},
   "outputs": [],
   "source": [
    "#5. 생성된 모델의 model.summary() 출력\n",
    "x_val = train_data[:20000]\n",
    "partial_x_train = train_data[20000:]\n",
    "\n",
    "y_val = train_labels[:20000]\n",
    "partial_y_train = train_labels[20000:]"
   ]
  },
  {
   "cell_type": "code",
   "execution_count": 5,
   "metadata": {},
   "outputs": [],
   "source": [
    "# 데이터를 벡터로 변환\n",
    "x_val = sequence.pad_sequences(x_val, maxlen=text_max_words)\n",
    "partial_x_train = sequence.pad_sequences(partial_x_train, maxlen=text_max_words)\n",
    "x_test = sequence.pad_sequences(test_data, maxlen=text_max_words)\n",
    "\n",
    "# 레이블의 자료형을 변경하여 불필요한 데이터 손실이 없게 변환\n",
    "y_train = np.asarray(y_val).astype('float32')\n",
    "partial_y_train = np.asarray(partial_y_train).astype('float32')\n",
    "y_test = np.asarray(test_labels).astype('float32')"
   ]
  },
  {
   "cell_type": "markdown",
   "metadata": {},
   "source": [
    "3. 학습을 위해 데이터가 어떻게 가공/처리되었는지 기술 \n",
    " - 각 데이터마다 길이가 상이하므로 같은 길이로 맞추어 모델의 입력으로 사용하기 위해서 데이터 길이의 크기를 200으로 변경하였습니다.\n",
    "   (모든 단어를 같은 길이로 맞춰주는 이유는 모델에서 데이터를 사용하기 위해서는 고정된 길이로 만들어줘야 하기 때문입니다.)\n",
    " - 레이블의 데이터는 스칼라 형식이므로 데이터 연산시 불필요한 데이터 손실이 없도록 정수형에서 실수형으로 변경하였습니다."
   ]
  },
  {
   "cell_type": "markdown",
   "metadata": {},
   "source": [
    "4. 사용된 모델의 특징에 대한 기술 \n",
    " - 이번 모델에서 사용한 레이어 중 중점인 레이어는 LSTM입니다.\n",
    " - LSTM 레이어는 가장 큰 특징은 기존에 사용해봤었던 데이터들과는 다르게 기존의 데이터를 기억하고 그 데이터를 이용하여 현재의 데이터에 사용   을 하는 것이 가장 큰 특징입니다.\n",
    " - RNN의 단점인 장기종속성 아래와 같은 방법으로 해결하였습니다.\n",
    "   (원래 한 레이어 였던것을 여러개의 레이어를 이용하여 각 레이어에서 나온 정보를 주고받아서 RNN의 단점을 해결하였습니다.)"
   ]
  },
  {
   "cell_type": "code",
   "execution_count": 6,
   "metadata": {},
   "outputs": [],
   "source": [
    "model = Sequential()\n",
    "#Embedding input_lehth의 값이 200으로 되어 있는데 그 이유는 아까전에 pad_sequences에서 200으로 잘라줬기 때문이다.\n",
    "#5000길이의 데이터를 128개로 나눠서 다음 레이어로 던짐\n",
    "#Embedding 1. 단어사전의 총 크기, 2. 인코딩 한 후 나오는 벡터의 크기 3. 다음이 LSTM층이기 때문에 자동으로 input_lenght의 설정을 해주므로 작성해야할 필요성이 없음\n",
    "model.add(Embedding(max_features, 128))\n",
    "model.add(LSTM(128))\n",
    "model.add(Dense(1, activation='sigmoid'))"
   ]
  },
  {
   "cell_type": "code",
   "execution_count": 7,
   "metadata": {},
   "outputs": [],
   "source": [
    "model.compile(loss='binary_crossentropy', optimizer='adam', metrics=['accuracy'])"
   ]
  },
  {
   "cell_type": "code",
   "execution_count": 8,
   "metadata": {},
   "outputs": [
    {
     "name": "stdout",
     "output_type": "stream",
     "text": [
      "_________________________________________________________________\n",
      "Layer (type)                 Output Shape              Param #   \n",
      "=================================================================\n",
      "embedding_1 (Embedding)      (None, None, 128)         640000    \n",
      "_________________________________________________________________\n",
      "lstm_1 (LSTM)                (None, 128)               131584    \n",
      "_________________________________________________________________\n",
      "dense_1 (Dense)              (None, 1)                 129       \n",
      "=================================================================\n",
      "Total params: 771,713\n",
      "Trainable params: 771,713\n",
      "Non-trainable params: 0\n",
      "_________________________________________________________________\n"
     ]
    }
   ],
   "source": [
    "#각 층마다 사용되는 파라미터의 값과 구성이 어떻게 되었는지 간단하게 알 수 있음\n",
    "model.summary()"
   ]
  },
  {
   "cell_type": "code",
   "execution_count": 9,
   "metadata": {},
   "outputs": [
    {
     "name": "stdout",
     "output_type": "stream",
     "text": [
      "Train on 20000 samples, validate on 5000 samples\n",
      "Epoch 1/25\n",
      "20000/20000 [==============================] - 135s 7ms/step - loss: 0.4538 - acc: 0.7846 - val_loss: 0.3569 - val_acc: 0.8458\n",
      "Epoch 2/25\n",
      "20000/20000 [==============================] - 136s 7ms/step - loss: 0.2987 - acc: 0.8784 - val_loss: 0.3451 - val_acc: 0.8560\n",
      "Epoch 3/25\n",
      "20000/20000 [==============================] - 135s 7ms/step - loss: 0.2309 - acc: 0.9092 - val_loss: 0.3472 - val_acc: 0.8596\n",
      "Epoch 4/25\n",
      "20000/20000 [==============================] - 136s 7ms/step - loss: 0.2062 - acc: 0.9196 - val_loss: 0.3792 - val_acc: 0.8566\n",
      "Epoch 5/25\n",
      "20000/20000 [==============================] - 136s 7ms/step - loss: 0.1493 - acc: 0.9447 - val_loss: 0.4152 - val_acc: 0.8530\n",
      "Epoch 6/25\n",
      "20000/20000 [==============================] - 137s 7ms/step - loss: 0.1322 - acc: 0.9519 - val_loss: 0.4492 - val_acc: 0.8460\n",
      "Epoch 7/25\n",
      "20000/20000 [==============================] - 137s 7ms/step - loss: 0.1397 - acc: 0.9476 - val_loss: 0.4616 - val_acc: 0.8432\n",
      "Epoch 8/25\n",
      "20000/20000 [==============================] - 136s 7ms/step - loss: 0.1030 - acc: 0.9626 - val_loss: 0.5373 - val_acc: 0.8516\n",
      "Epoch 9/25\n",
      "20000/20000 [==============================] - 136s 7ms/step - loss: 0.1057 - acc: 0.9630 - val_loss: 0.5184 - val_acc: 0.8386\n",
      "Epoch 10/25\n",
      "20000/20000 [==============================] - 136s 7ms/step - loss: 0.0859 - acc: 0.9717 - val_loss: 0.6041 - val_acc: 0.8380\n",
      "Epoch 11/25\n",
      "20000/20000 [==============================] - 137s 7ms/step - loss: 0.0532 - acc: 0.9820 - val_loss: 0.6517 - val_acc: 0.8438\n",
      "Epoch 12/25\n",
      "20000/20000 [==============================] - 138s 7ms/step - loss: 0.0397 - acc: 0.9875 - val_loss: 0.7320 - val_acc: 0.8500\n",
      "Epoch 13/25\n",
      "20000/20000 [==============================] - 136s 7ms/step - loss: 0.0731 - acc: 0.9761 - val_loss: 0.6763 - val_acc: 0.8372\n",
      "Epoch 14/25\n",
      "20000/20000 [==============================] - 137s 7ms/step - loss: 0.0296 - acc: 0.9916 - val_loss: 0.7894 - val_acc: 0.8358\n",
      "Epoch 15/25\n",
      "20000/20000 [==============================] - 138s 7ms/step - loss: 0.0170 - acc: 0.9956 - val_loss: 0.8322 - val_acc: 0.8440\n",
      "Epoch 16/25\n",
      "20000/20000 [==============================] - 138s 7ms/step - loss: 0.0235 - acc: 0.9924 - val_loss: 0.8796 - val_acc: 0.8380\n",
      "Epoch 17/25\n",
      "20000/20000 [==============================] - 139s 7ms/step - loss: 0.0374 - acc: 0.9889 - val_loss: 0.7920 - val_acc: 0.8458\n",
      "Epoch 18/25\n",
      "20000/20000 [==============================] - 138s 7ms/step - loss: 0.0198 - acc: 0.9945 - val_loss: 0.8840 - val_acc: 0.8388\n",
      "Epoch 19/25\n",
      "20000/20000 [==============================] - 139s 7ms/step - loss: 0.0299 - acc: 0.9906 - val_loss: 0.8063 - val_acc: 0.8032\n",
      "Epoch 20/25\n",
      "20000/20000 [==============================] - 138s 7ms/step - loss: 0.0298 - acc: 0.9908 - val_loss: 0.7909 - val_acc: 0.8440\n",
      "Epoch 21/25\n",
      "20000/20000 [==============================] - 138s 7ms/step - loss: 0.0207 - acc: 0.9937 - val_loss: 0.8592 - val_acc: 0.8216\n",
      "Epoch 22/25\n",
      "20000/20000 [==============================] - 139s 7ms/step - loss: 0.0211 - acc: 0.9939 - val_loss: 0.9201 - val_acc: 0.8478\n",
      "Epoch 23/25\n",
      "20000/20000 [==============================] - 138s 7ms/step - loss: 0.0058 - acc: 0.9987 - val_loss: 0.9772 - val_acc: 0.8400\n",
      "Epoch 24/25\n",
      "20000/20000 [==============================] - 139s 7ms/step - loss: 0.0072 - acc: 0.9983 - val_loss: 0.9834 - val_acc: 0.8458\n",
      "Epoch 25/25\n",
      "20000/20000 [==============================] - 138s 7ms/step - loss: 0.0111 - acc: 0.9968 - val_loss: 0.9761 - val_acc: 0.8346\n"
     ]
    }
   ],
   "source": [
    "#epoch은 최소 25회 이상 진행 \n",
    "hist = model.fit(x_val, y_val, epochs=25, batch_size=64, validation_data=(partial_x_train, partial_y_train))"
   ]
  },
  {
   "cell_type": "code",
   "execution_count": 10,
   "metadata": {},
   "outputs": [],
   "source": [
    "#그림으로 표현하기 위해서 history 데이터를 분리\n",
    "history_dict = hist.history\n",
    "\n",
    "acc = hist.history['acc']\n",
    "val_acc = hist.history['val_acc']\n",
    "loss = hist.history['loss']\n",
    "val_loss = hist.history['val_loss']\n",
    "\n",
    "epochs = range(1, len(acc) + 1)"
   ]
  },
  {
   "cell_type": "code",
   "execution_count": 14,
   "metadata": {},
   "outputs": [
    {
     "data": {
      "image/png": "[encoded data removed]",
      "text/plain": [
       "<Figure size 432x288 with 1 Axes>"
      ]
     },
     "metadata": {
      "needs_background": "light"
     },
     "output_type": "display_data"
    }
   ],
   "source": [
    "import matplotlib.pyplot as plt\n",
    "\n",
    "#손실을 그래프로 표시\n",
    "plt.plot(epochs, loss, 'bo', label='Training loss')\n",
    "plt.plot(epochs, val_loss, 'b', label='Validation loss')\n",
    "plt.title('Training and validation loss')\n",
    "plt.xlabel('Epochs')\n",
    "plt.ylabel('Loss')\n",
    "plt.legend()\n",
    "\n",
    "plt.show()"
   ]
  },
  {
   "cell_type": "code",
   "execution_count": 15,
   "metadata": {},
   "outputs": [
    {
     "data": {
      "text/plain": [
       "<Figure size 432x288 with 0 Axes>"
      ]
     },
     "metadata": {},
     "output_type": "display_data"
    }
   ],
   "source": [
    "# 그래프를 초기화\n",
    "plt.clf()  "
   ]
  },
  {
   "cell_type": "code",
   "execution_count": 16,
   "metadata": {},
   "outputs": [
    {
     "data": {
      "image/png": "[encoded data removed]",
      "text/plain": [
       "<Figure size 432x288 with 1 Axes>"
      ]
     },
     "metadata": {
      "needs_background": "light"
     },
     "output_type": "display_data"
    }
   ],
   "source": [
    "#정확도를 그래프로 표시\n",
    "plt.plot(epochs, acc, 'bo', label='Training acc')\n",
    "plt.plot(epochs, val_acc, 'b', label='Validation acc')\n",
    "plt.title('Training and validation accuracy')\n",
    "plt.xlabel('Epochs')\n",
    "plt.ylabel('Accuracy')\n",
    "plt.legend()\n",
    "\n",
    "plt.show()"
   ]
  },
  {
   "cell_type": "code",
   "execution_count": 17,
   "metadata": {},
   "outputs": [
    {
     "name": "stdout",
     "output_type": "stream",
     "text": [
      "25000/25000 [==============================] - 27s 1ms/step\n",
      "## evaluation loss and_metrics ##\n",
      "[0.9644113788795471, 0.834719999961853]\n"
     ]
    }
   ],
   "source": [
    "# 6. 모델 평가하기\n",
    "loss_and_metrics = model.evaluate(x_test, y_test, batch_size=64)\n",
    "print('## evaluation loss and_metrics ##')\n",
    "print(loss_and_metrics)"
   ]
  },
  {
   "cell_type": "markdown",
   "metadata": {},
   "source": [
    "# LSTM 종료"
   ]
  },
  {
   "cell_type": "code",
   "execution_count": null,
   "metadata": {},
   "outputs": [],
   "source": []
  }
 ],
 "metadata": {
  "kernelspec": {
   "display_name": "Python 3",
   "language": "python",
   "name": "python3"
  },
  "language_info": {
   "codemirror_mode": {
    "name": "ipython",
    "version": 3
   },
   "file_extension": ".py",
   "mimetype": "text/x-python",
   "name": "python",
   "nbconvert_exporter": "python",
   "pygments_lexer": "ipython3",
   "version": "3.6.8"
  }
 },
 "nbformat": 4,
 "nbformat_minor": 2
}
