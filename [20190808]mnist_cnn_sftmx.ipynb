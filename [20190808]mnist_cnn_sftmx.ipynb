{
  "nbformat": 4,
  "nbformat_minor": 0,
  "metadata": {
    "kernelspec": {
      "name": "python3",
      "display_name": "Python 3"
    },
    "language_info": {
      "codemirror_mode": {
        "name": "ipython",
        "version": 3
      },
      "file_extension": ".py",
      "mimetype": "text/x-python",
      "name": "python",
      "nbconvert_exporter": "python",
      "pygments_lexer": "ipython3",
      "version": "3.5.5"
    },
    "colab": {
      "name": "mnist_cnn_sftmx.ipynb",
      "version": "0.3.2",
      "provenance": [],
      "collapsed_sections": []
    },
    "accelerator": "GPU"
  },
  "cells": [
    {
      "cell_type": "code",
      "metadata": {
        "id": "de5WuhFULnRl",
        "colab_type": "code",
        "colab": {
          "base_uri": "https://localhost:8080/",
          "height": 55
        },
        "outputId": "ba6e7d62-8aa3-4c97-8ac6-fd26f7db9f63"
      },
      "source": [
        "import keras\n",
        "keras.__version__"
      ],
      "execution_count": 1,
      "outputs": [
        {
          "output_type": "stream",
          "text": [
            "Using TensorFlow backend.\n"
          ],
          "name": "stderr"
        },
        {
          "output_type": "execute_result",
          "data": {
            "text/plain": [
              "'2.2.4'"
            ]
          },
          "metadata": {
            "tags": []
          },
          "execution_count": 1
        }
      ]
    },
    {
      "cell_type": "markdown",
      "metadata": {
        "collapsed": true,
        "id": "uYJV67QxLnRo",
        "colab_type": "text"
      },
      "source": [
        "## 5.1 - 합성곱 신경망 소개\n",
        "###### Python 3.5.5. keras 2.1.6에서 실행 확인하였습니다.\n",
        "책의 5장 1절의 코드 예제입니다. 아래 모델에에 대해서 기술하세요.\n",
        "\n"
      ]
    },
    {
      "cell_type": "markdown",
      "metadata": {
        "id": "eTqBobPsLnRp",
        "colab_type": "text"
      },
      "source": [
        "###### 이번 모델의 특징\n",
        "\n",
        "Conv2D 레이어는 테이터에서 2차원의 필터를 적용하여 그 필터에 통과된 데이터에서 결과를 가져와 다음 레이어로 넘어 갈 때 데이터의 수를 줄일 수 있게 도와주는 역할을 합니다\n",
        "아래의 첫번째 은닉레이어의 값을 기준으로 설명을 드리면 32개의 필터가 존재하고 그 필터의 크기는 3x3의 크기를 가지고 있습니다. 활성하 함수로는 relu를 쓰는데 relu 특징이 0보다 값이 작으면 0으로 출력하고 0보다 값이 크면 입력 한 값을 출력합니다. 그리고 필터를 지나기 전에는 28x28의 크기(mnist가 28x28크기인 이미지)인 값을 1개를 이용합니다.\n",
        "\n",
        "MaxPooling2D 레이어는 출력한 데이터를 이용하여 지정한 크기만큼으로 크기조절을 해주는 역할을 하고 있는데 크기 조절을 할 때에 가장 큰 값으로 크기 조절을 합니다. 현 모델에서는 2x2와 3x3을 쓰고 있는데 이 뜻은 2배, 3배만큼 크기를 줄인다는 뜻입니다.\n",
        "\n",
        "flatten 레이어는 차원을 내려주는 역할을 맡고있습니다. \n",
        "아래 모델에 보면은 현재 Conv2D레이어가 2차원값을 가지고 있고 Dense에서는 1차원 데이터를 처리하는 레이어 인데 차원을 내려주지 않고 학습을 하게 된다면은 에러가 발생합니다. \n",
        "이러한 에러 부분을 제거하기 위해서 flatten 함수를 이용하여 2차원 데이터를 1차원 데이터로 변환을 합니다.\n",
        "\n",
        "softmax 레이어는 각 노드마다 은닉 레이어에서 출력한 값 들이 하나의 노드에 값을 가지고 있으며 그 노드의 레이어의 값을 더하면 1에 가까운 값이 나오는 특성을 가지고 있습니다.\n",
        "이러한 특성을 이용하여 각 극단의 값을 예측하는 것이 아닌 여러개의 특성을 가지고 있는 값을 예측하는 용도로 많이 사용이 됩니다.\n",
        "\n",
        "####위 내용을 바탕으로 아래의 내용을 특징에 대해서 말씀드리겠습니다.\n",
        "mnist에서 제공하는 이미지에서 나타나는 부분 중 특징적인 부분(선으로 그려진 부분 또는 선으로 그려지지 않는 부분)을 필터를 통해 데이터가 가공이 되어지기 때문에 인접 데이터의 손실이 적으며 각 레이어의 입출력 데이터에 대한 형상을 유지할 수 있습니다. 또한 MaxPooling을 이용하여 각 이미지의 특징을 강화할 수 있습니다.\n",
        "\n",
        "위에 작성된 특징으로 인하여 이미지를 이용한 학습에 활용성이 매우 높은 모델입니다. 그리고 softmax를 이용하기 때문에 숫자로 이루어진 데이터들의 분류에 대해서도 적합한 출력 레이어 입니다."
      ]
    },
    {
      "cell_type": "code",
      "metadata": {
        "id": "q_yRtu1OLnRp",
        "colab_type": "code",
        "colab": {
          "base_uri": "https://localhost:8080/",
          "height": 447
        },
        "outputId": "0354ea7e-f131-47da-d911-589356314435"
      },
      "source": [
        "from keras import layers\n",
        "from keras import models\n",
        "\n",
        "model = models.Sequential()\n",
        "model.add(layers.Conv2D(32, (3, 3), activation='relu', input_shape=(28, 28, 1)))\n",
        "model.add(layers.MaxPooling2D((2, 2)))\n",
        "model.add(layers.Conv2D(64, (3, 3), activation='relu'))\n",
        "model.add(layers.MaxPooling2D((2, 2)))\n",
        "model.add(layers.Conv2D(64, (3, 3), activation='relu'))\n",
        "model.add(layers.Flatten())\n",
        "model.add(layers.Dense(64, activation='relu'))\n",
        "model.add(layers.Dense(10, activation='softmax'))\n",
        "model.summary()"
      ],
      "execution_count": 6,
      "outputs": [
        {
          "output_type": "stream",
          "text": [
            "_________________________________________________________________\n",
            "Layer (type)                 Output Shape              Param #   \n",
            "=================================================================\n",
            "conv2d_4 (Conv2D)            (None, 26, 26, 32)        320       \n",
            "_________________________________________________________________\n",
            "max_pooling2d_3 (MaxPooling2 (None, 13, 13, 32)        0         \n",
            "_________________________________________________________________\n",
            "conv2d_5 (Conv2D)            (None, 11, 11, 64)        18496     \n",
            "_________________________________________________________________\n",
            "max_pooling2d_4 (MaxPooling2 (None, 5, 5, 64)          0         \n",
            "_________________________________________________________________\n",
            "conv2d_6 (Conv2D)            (None, 3, 3, 64)          36928     \n",
            "_________________________________________________________________\n",
            "flatten_2 (Flatten)          (None, 576)               0         \n",
            "_________________________________________________________________\n",
            "dense_3 (Dense)              (None, 64)                36928     \n",
            "_________________________________________________________________\n",
            "dense_4 (Dense)              (None, 10)                650       \n",
            "=================================================================\n",
            "Total params: 93,322\n",
            "Trainable params: 93,322\n",
            "Non-trainable params: 0\n",
            "_________________________________________________________________\n"
          ],
          "name": "stdout"
        }
      ]
    },
    {
      "cell_type": "code",
      "metadata": {
        "id": "9xZRsjZmLyKl",
        "colab_type": "code",
        "colab": {}
      },
      "source": [
        ""
      ],
      "execution_count": 0,
      "outputs": []
    },
    {
      "cell_type": "code",
      "metadata": {
        "id": "8o7H7z-oLnRr",
        "colab_type": "code",
        "colab": {}
      },
      "source": [
        "from keras.datasets import mnist\n",
        "from keras.utils import to_categorical\n",
        "\n",
        "(train_images, train_labels), (test_images, test_labels) = mnist.load_data()\n",
        "\n",
        "train_images = train_images.reshape((60000, 28, 28, 1))\n",
        "train_images = train_images.astype('float32') / 255\n",
        "\n",
        "test_images = test_images.reshape((10000, 28, 28, 1))\n",
        "test_images = test_images.astype('float32') / 255\n",
        "\n",
        "train_labels = to_categorical(train_labels)\n",
        "test_labels = to_categorical(test_labels)"
      ],
      "execution_count": 0,
      "outputs": []
    },
    {
      "cell_type": "code",
      "metadata": {
        "id": "nLKWUBRKLys4",
        "colab_type": "code",
        "colab": {}
      },
      "source": [
        ""
      ],
      "execution_count": 0,
      "outputs": []
    },
    {
      "cell_type": "code",
      "metadata": {
        "id": "BK8vbcZ_LnRu",
        "colab_type": "code",
        "colab": {
          "base_uri": "https://localhost:8080/",
          "height": 223
        },
        "outputId": "e7ad03c8-f57a-4ea2-b205-3212804b779c"
      },
      "source": [
        "model.compile(optimizer='rmsprop',\n",
        "              loss='categorical_crossentropy',\n",
        "              metrics=['accuracy'])\n",
        "model.fit(train_images, train_labels, epochs=5, batch_size=64)"
      ],
      "execution_count": 8,
      "outputs": [
        {
          "output_type": "stream",
          "text": [
            "Epoch 1/5\n",
            "60000/60000 [==============================] - 4s 75us/step - loss: 0.1790 - acc: 0.9428\n",
            "Epoch 2/5\n",
            "60000/60000 [==============================] - 4s 68us/step - loss: 0.0493 - acc: 0.9846\n",
            "Epoch 3/5\n",
            "60000/60000 [==============================] - 4s 67us/step - loss: 0.0332 - acc: 0.9895\n",
            "Epoch 4/5\n",
            "60000/60000 [==============================] - 4s 69us/step - loss: 0.0248 - acc: 0.9923\n",
            "Epoch 5/5\n",
            "60000/60000 [==============================] - 4s 67us/step - loss: 0.0203 - acc: 0.9937\n"
          ],
          "name": "stdout"
        },
        {
          "output_type": "execute_result",
          "data": {
            "text/plain": [
              "<keras.callbacks.History at 0x7fcd4452bb38>"
            ]
          },
          "metadata": {
            "tags": []
          },
          "execution_count": 8
        }
      ]
    },
    {
      "cell_type": "code",
      "metadata": {
        "id": "SlNWofX4Lzh3",
        "colab_type": "code",
        "colab": {}
      },
      "source": [
        ""
      ],
      "execution_count": 0,
      "outputs": []
    },
    {
      "cell_type": "code",
      "metadata": {
        "id": "cGFcmgjZLnRv",
        "colab_type": "code",
        "colab": {
          "base_uri": "https://localhost:8080/",
          "height": 55
        },
        "outputId": "422ff18e-49fb-4484-93f7-c84e12eeb657"
      },
      "source": [
        "test_loss, test_acc = model.evaluate(test_images, test_labels)\n",
        "test_acc"
      ],
      "execution_count": 9,
      "outputs": [
        {
          "output_type": "stream",
          "text": [
            "10000/10000 [==============================] - 1s 56us/step\n"
          ],
          "name": "stdout"
        },
        {
          "output_type": "execute_result",
          "data": {
            "text/plain": [
              "0.9913"
            ]
          },
          "metadata": {
            "tags": []
          },
          "execution_count": 9
        }
      ]
    },
    {
      "cell_type": "code",
      "metadata": {
        "id": "-jyRfdWnLz4V",
        "colab_type": "code",
        "colab": {}
      },
      "source": [
        ""
      ],
      "execution_count": 0,
      "outputs": []
    }
  ]
}