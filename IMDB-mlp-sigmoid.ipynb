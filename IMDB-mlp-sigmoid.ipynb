{
 "cells": [
  {
   "cell_type": "markdown",
   "metadata": {},
   "source": [
    "# 3.4 영화 리뷰 분류 예제 : 이진 분류 예제"
   ]
  },
  {
   "cell_type": "markdown",
   "metadata": {},
   "source": [
    "3.4.1 이 예제에서 사용되는 데이터가 무엇인가?\n",
    " - IMDB(인터넷 영화 데이터베이스)의 데이터에서 제공한 데이터들 중 양극단(긍정적,부정적) 리뷰의 단어들의 데이터셋입니다.\n",
    " - 훈련 데이터로는 2만 5000개의 데이터와 같은 수의 테스트 데이터로 구성되어 있습니다."
   ]
  },
  {
   "cell_type": "markdown",
   "metadata": {},
   "source": [
    "3.4.2 이 예제에서 예측하고자 하는 방법/방향이 무엇인가?\n",
    " - IMDB의 데이터셋에서 가져온 테스트 데이터를 학습한 모델에 적용하였을 때의 결과가 긍정적인 리뷰결과와 부정적인 리뷰결과를 예측 할 수 있게 학습하고자 합니다."
   ]
  },
  {
   "cell_type": "markdown",
   "metadata": {},
   "source": [
    "3.4.3 이 예제에서 학습을 위해 데이터가 어떻게 가공/처리 되었는가?\n",
    " - 신경망에는 리스트를 주입을 할 수 없습니다. 그렇기에 리스트를 원-핫 인코딩을 적용하여 벡터로 가공하였습니다.\n",
    " - 원-핫 인코딩을 함으로써 연산의 편의성과 정확도 향상에 이점이 있습니다."
    " - 레이블은 스칼라데이터이기 때문에 int 형을 float로 변환시켜 연산시 누락되는 값이 없도록 만들었습니다."
   ]
  },
  {
   "cell_type": "markdown",
   "metadata": {},
   "source": [
    "3.4.4 사용된 모델의 입력층과 출력층이 무엇인가?\n",
    " - 입력층은 벡터로 변환된 데이터(리뷰에 존재하는 단어의 인덱스 나타내는 데이터)가 입력되는 층입니다.\n",
    " - 출력층은 특정 데이터가 입력시 긍정적인지 부정적인지 예측결과를 반환하는 층입니다."
   ]
  },
  {
   "cell_type": "code",
   "execution_count": 4,
   "metadata": {},
   "outputs": [],
   "source": [
    "#예제에서 사용할 모듈 및 함수 정의\n",
    "from keras.datasets import imdb\n",
    "import numpy as np\n",
    "from keras import models\n",
    "from keras import layers\n",
    "import matplotlib.pyplot as plt\n",
    "\n",
    "def vectorize_sequences(sequences, dimension=10000):\n",
    "    # 크기가 (len(sequences), dimension))이고 모든 원소가 0인 행렬을 생성\n",
    "    results = np.zeros((len(sequences), dimension))\n",
    "    for i, sequence in enumerate(sequences):\n",
    "        results[i, sequence] = 1.  # results[i]에서 특정 인덱스의 위치를 1로 변경\n",
    "    return results"
   ]
  },
  {
   "cell_type": "code",
   "execution_count": 5,
   "metadata": {},
   "outputs": [],
   "source": [
    "# imdb에서 자주사용하는 단어 10000개의 데이터로 제한\n",
    "# 데이터들은 각 단어의 인덱스 번호이며 imdb.get_word_index를 통하여 데이터와 매치되는 데이터를 가져올 수 있음\n",
    "(train_data, train_labels), (test_data, test_labels) = imdb.load_data(num_words=10000)"
   ]
  },
  {
   "cell_type": "code",
   "execution_count": 6,
   "metadata": {},
   "outputs": [],
   "source": [
    "# 훈련 데이터를 벡터로 변환\n",
    "x_train = vectorize_sequences(train_data)\n",
    "# 테스트 데이터를 벡터로 변환\n",
    "x_test = vectorize_sequences(test_data)\n",
    "\n",
    "# 레이블을 벡터로 변경\n",
    "y_train = np.asarray(train_labels).astype('float32')\n",
    "y_test = np.asarray(test_labels).astype('float32')"
   ]
  },
  {
   "cell_type": "code",
   "execution_count": 8,
   "metadata": {},
   "outputs": [],
   "source": [
    "#모델 생성\n",
    "model = models.Sequential()\n",
    "model.add(layers.Dense(16, activation='relu', input_shape=(10000,)))\n",
    "model.add(layers.Dense(16, activation='relu'))\n",
    "model.add(layers.Dense(1, activation='sigmoid'))\n",
    "model.compile(optimizer='rmsprop',\n",
    "              loss='binary_crossentropy',\n",
    "              metrics=['accuracy'])"
   ]
  },
  {
   "cell_type": "code",
   "execution_count": 9,
   "metadata": {},
   "outputs": [],
   "source": [
    "#훈련 데이터 생성\n",
    "x_val = x_train[:10000]\n",
    "partial_x_train = x_train[10000:]\n",
    "\n",
    "y_val = y_train[:10000]\n",
    "partial_y_train = y_train[10000:]"
   ]
  },
  {
   "cell_type": "code",
   "execution_count": 10,
   "metadata": {},
   "outputs": [
    {
     "name": "stdout",
     "output_type": "stream",
     "text": [
      "Train on 15000 samples, validate on 10000 samples\n",
      "Epoch 1/20\n",
      "15000/15000 [==============================] - 7s 441us/step - loss: 0.5323 - acc: 0.7816 - val_loss: 0.3841 - val_acc: 0.8726\n",
      "Epoch 2/20\n",
      "15000/15000 [==============================] - 5s 321us/step - loss: 0.2940 - acc: 0.9045 - val_loss: 0.3130 - val_acc: 0.8791\n",
      "Epoch 3/20\n",
      "15000/15000 [==============================] - 5s 329us/step - loss: 0.2109 - acc: 0.9279 - val_loss: 0.3229 - val_acc: 0.8676\n",
      "Epoch 4/20\n",
      "15000/15000 [==============================] - 4s 290us/step - loss: 0.1660 - acc: 0.9431 - val_loss: 0.2775 - val_acc: 0.8882\n",
      "Epoch 5/20\n",
      "15000/15000 [==============================] - 4s 285us/step - loss: 0.1306 - acc: 0.9570 - val_loss: 0.3127 - val_acc: 0.8807\n",
      "Epoch 6/20\n",
      "15000/15000 [==============================] - 4s 260us/step - loss: 0.1038 - acc: 0.9673 - val_loss: 0.3106 - val_acc: 0.8836\n",
      "Epoch 7/20\n",
      "15000/15000 [==============================] - 5s 326us/step - loss: 0.0820 - acc: 0.9757 - val_loss: 0.3376 - val_acc: 0.8823\n",
      "Epoch 8/20\n",
      "15000/15000 [==============================] - 5s 312us/step - loss: 0.0667 - acc: 0.9805 - val_loss: 0.3644 - val_acc: 0.8805\n",
      "Epoch 9/20\n",
      "15000/15000 [==============================] - 5s 301us/step - loss: 0.0502 - acc: 0.9867 - val_loss: 0.4001 - val_acc: 0.8786\n",
      "Epoch 10/20\n",
      "15000/15000 [==============================] - 4s 296us/step - loss: 0.0466 - acc: 0.9867 - val_loss: 0.4301 - val_acc: 0.8754\n",
      "Epoch 11/20\n",
      "15000/15000 [==============================] - 5s 317us/step - loss: 0.0316 - acc: 0.9922 - val_loss: 0.4584 - val_acc: 0.8722\n",
      "Epoch 12/20\n",
      "15000/15000 [==============================] - 4s 254us/step - loss: 0.0184 - acc: 0.9973 - val_loss: 0.5126 - val_acc: 0.8680\n",
      "Epoch 13/20\n",
      "15000/15000 [==============================] - 4s 283us/step - loss: 0.0192 - acc: 0.9967 - val_loss: 0.5398 - val_acc: 0.8714\n",
      "Epoch 14/20\n",
      "15000/15000 [==============================] - 4s 295us/step - loss: 0.0199 - acc: 0.9946 - val_loss: 0.5717 - val_acc: 0.8712\n",
      "Epoch 15/20\n",
      "15000/15000 [==============================] - 4s 260us/step - loss: 0.0075 - acc: 0.9995 - val_loss: 0.6428 - val_acc: 0.8624\n",
      "Epoch 16/20\n",
      "15000/15000 [==============================] - 5s 319us/step - loss: 0.0154 - acc: 0.9956 - val_loss: 0.6637 - val_acc: 0.8684\n",
      "Epoch 17/20\n",
      "15000/15000 [==============================] - 4s 269us/step - loss: 0.0031 - acc: 0.9998 - val_loss: 0.6939 - val_acc: 0.8677\n",
      "Epoch 18/20\n",
      "15000/15000 [==============================] - 5s 308us/step - loss: 0.0117 - acc: 0.9966 - val_loss: 0.7341 - val_acc: 0.8686\n",
      "Epoch 19/20\n",
      "15000/15000 [==============================] - 4s 293us/step - loss: 0.0016 - acc: 0.9998 - val_loss: 0.7545 - val_acc: 0.8673\n",
      "Epoch 20/20\n",
      "15000/15000 [==============================] - 4s 265us/step - loss: 0.0013 - acc: 0.9998 - val_loss: 0.7979 - val_acc: 0.8656\n"
     ]
    }
   ],
   "source": [
    "#학습 시작 \n",
    "history = model.fit(partial_x_train,\n",
    "                    partial_y_train,\n",
    "                    epochs=20,\n",
    "                    batch_size=512,\n",
    "                    validation_data=(x_val, y_val))"
   ]
  },
  {
   "cell_type": "code",
   "execution_count": 11,
   "metadata": {},
   "outputs": [],
   "source": [
    "#그림으로 표현하기 위해서 history 데이터를 분리\n",
    "history_dict = history.history\n",
    "\n",
    "acc = history.history['acc']\n",
    "val_acc = history.history['val_acc']\n",
    "loss = history.history['loss']\n",
    "val_loss = history.history['val_loss']\n",
    "\n",
    "epochs = range(1, len(acc) + 1)"
   ]
  },
  {
   "cell_type": "code",
   "execution_count": 12,
   "metadata": {},
   "outputs": [
    {
     "data": {
      "image/png": "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\n",
      "text/plain": [
       "<Figure size 432x288 with 1 Axes>"
      ]
     },
     "metadata": {
      "needs_background": "light"
     },
     "output_type": "display_data"
    }
   ],
   "source": [
    "#손실을 그래프로 표시\n",
    "plt.plot(epochs, loss, 'bo', label='Training loss')\n",
    "plt.plot(epochs, val_loss, 'b', label='Validation loss')\n",
    "plt.title('Training and validation loss')\n",
    "plt.xlabel('Epochs')\n",
    "plt.ylabel('Loss')\n",
    "plt.legend()\n",
    "\n",
    "plt.show()"
   ]
  },
  {
   "cell_type": "code",
   "execution_count": 13,
   "metadata": {},
   "outputs": [
    {
     "data": {
      "text/plain": [
       "<Figure size 432x288 with 0 Axes>"
      ]
     },
     "metadata": {},
     "output_type": "display_data"
    }
   ],
   "source": [
    "# 그래프를 초기화\n",
    "plt.clf()  "
   ]
  },
  {
   "cell_type": "code",
   "execution_count": 14,
   "metadata": {},
   "outputs": [
    {
     "data": {
      "image/png": "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\n",
      "text/plain": [
       "<Figure size 432x288 with 1 Axes>"
      ]
     },
     "metadata": {
      "needs_background": "light"
     },
     "output_type": "display_data"
    }
   ],
   "source": [
    "#정확도를 그래프로 표시\n",
    "plt.plot(epochs, acc, 'bo', label='Training acc')\n",
    "plt.plot(epochs, val_acc, 'b', label='Validation acc')\n",
    "plt.title('Training and validation accuracy')\n",
    "plt.xlabel('Epochs')\n",
    "plt.ylabel('Accuracy')\n",
    "plt.legend()\n",
    "\n",
    "plt.show()"
   ]
  },
  {
   "cell_type": "code",
   "execution_count": 15,
   "metadata": {},
   "outputs": [
    {
     "name": "stdout",
     "output_type": "stream",
     "text": [
      "25000/25000 [==============================] - 14s 566us/step\n"
     ]
    }
   ],
   "source": [
    "# 모델의 성능 평가\n",
    "results = model.evaluate(x_test, y_test)"
   ]
  },
  {
   "cell_type": "code",
   "execution_count": 16,
   "metadata": {},
   "outputs": [
    {
     "data": {
      "text/plain": [
       "array([[0.00169972],\n",
       "       [1.        ],\n",
       "       [0.87649286],\n",
       "       ...,\n",
       "       [0.00353568],\n",
       "       [0.00279332],\n",
       "       [0.17949726]], dtype=float32)"
      ]
     },
     "execution_count": 16,
     "metadata": {},
     "output_type": "execute_result"
    }
   ],
   "source": [
    "#모델에 테스트값을 입력하였을 때 예측 값\n",
    "model.predict(x_test)"
   ]
  },
  {
   "cell_type": "markdown",
   "metadata": {},
   "source": [
    "# 3.4 예제 종료"
   ]
  },
  {
   "cell_type": "code",
   "execution_count": null,
   "metadata": {},
   "outputs": [],
   "source": []
  }
 ],
 "metadata": {
  "kernelspec": {
   "display_name": "Python 3",
   "language": "python",
   "name": "python3"
  },
  "language_info": {
   "codemirror_mode": {
    "name": "ipython",
    "version": 3
   },
   "file_extension": ".py",
   "mimetype": "text/x-python",
   "name": "python",
   "nbconvert_exporter": "python",
   "pygments_lexer": "ipython3",
   "version": "3.6.8"
  }
 },
 "nbformat": 4,
 "nbformat_minor": 2
}
