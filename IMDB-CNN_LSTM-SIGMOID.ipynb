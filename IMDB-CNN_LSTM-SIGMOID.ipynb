{
 "cells": [
  {
   "cell_type": "markdown",
   "metadata": {},
   "source": [
    "# IMDB-CNN_LSTM-SIGMOD"
   ]
  },
  {
   "cell_type": "markdown",
   "metadata": {},
   "source": [
    "아래의 결과를 실행하고 나타난 결과입니다.\n",
    "[0.8828116548156738, 0.8505600001907349]"
   ]
  },
  {
   "cell_type": "markdown",
   "metadata": {},
   "source": [
    "1. 실제 데이터에 대한 상세 기술 \n",
    " - IMDB(인터넷 영화 데이터베이스)의 데이터에서 제공한 데이터들 중 양극단(긍정적,부정적) 리뷰의 단어들의 데이터셋입니다.\n",
    " - 훈련 데이터로는 2만 5000개의 데이터와 같은 수의 테스트 데이터로 구성되어 있으며 훈련 데이터를 2만개와 검증 데이터 5천개로 나누어 진행할    것입니다.\n",
    " - 데이터의 내용은 빈도수가 가장 높은 5000개 단어들로 구성하였습니다."
   ]
  },
  {
   "cell_type": "code",
   "execution_count": 10,
   "metadata": {},
   "outputs": [],
   "source": [
    "#imdb에서 제공하는 데이터를 가져온는 과정\n",
    "from keras.datasets import imdb\n",
    "from keras.preprocessing import sequence\n",
    "from keras.models import Sequential\n",
    "from keras.layers import Dense, Embedding, LSTM\n",
    "from keras.layers import Flatten, Dropout\n",
    "from keras.layers import Conv1D, MaxPooling1D\n",
    "from keras.utils.np_utils import to_categorical\n",
    "import numpy as np\n",
    "import matplotlib.pyplot as plt\n",
    "\n",
    "max_features = 5000\n",
    "text_max_words = 200\n",
    "\n",
    "(train_data, train_labels), (test_data, test_labels) = imdb.load_data(num_words=max_features)"
   ]
  },
  {
   "cell_type": "code",
   "execution_count": 11,
   "metadata": {},
   "outputs": [
    {
     "name": "stdout",
     "output_type": "stream",
     "text": [
      "트레이닝 데이터 : 25000\n",
      "테스트 데이터 : 25000\n"
     ]
    }
   ],
   "source": [
    "#가져온 데이터의 갯수 파악\n",
    "print(\"트레이닝 데이터 :\", len(train_data))\n",
    "print(\"테스트 데이터 :\", len(test_data))"
   ]
  },
  {
   "cell_type": "code",
   "execution_count": 12,
   "metadata": {},
   "outputs": [
    {
     "name": "stdout",
     "output_type": "stream",
     "text": [
      "부정적인 내용\n"
     ]
    },
    {
     "data": {
      "text/plain": [
       "\"? this movie has many problem associated with it that makes it come off like a low budget class project from someone in film school i have to give it credit on its ? though many times throughout the movie i found myself laughing ? it was so bad at times that it was comical which made it a fun watch br br if you're looking for a low grade slasher movie with a twist of psychological horror and a ? of campy ? then pop a ? of popcorn ? some friends over and have some fun br br i agree with other comments that the sound is very bad dialog is next to impossible to follow much of the time and the soundtrack is kind of just there\""
      ]
     },
     "execution_count": 12,
     "metadata": {},
     "output_type": "execute_result"
    }
   ],
   "source": [
    "# 데이터 내용을 확인하기 위하여 index를 매핑시킬 수 있는 딕셔너리 생성\n",
    "word_index = imdb.get_word_index()\n",
    "reverse_word_index = dict([(value, key) for (key, value) in word_index.items()])\n",
    "# 첫번째 데이터에 있는 문자 확인과 이 내용이 긍정적인지 부정적인지 같은 인덱스에 존재하는 레이블을 이용하여 확인\n",
    "decoded_review = ' '.join([reverse_word_index.get(i - 3, '?') for i in train_data[9]])\n",
    "\n",
    "if train_labels[9] == 1 :\n",
    "    print(\"긍정적인 내용\")\n",
    "else:\n",
    "    print(\"부정적인 내용\")\n",
    "decoded_review"
   ]
  },
  {
   "cell_type": "markdown",
   "metadata": {},
   "source": [
    "2. 예측하고자 하는 방법/방향 기술 \n",
    " - 특정한 단어의 집합으로 이루어진 양극단 데이터를 학습시킨 모델에 데이터를 입력할 때에 그 데이터가 긍정인지 부정인지 예측하기위하여 진행    하였습니다."
   ]
  },
  {
   "cell_type": "code",
   "execution_count": 13,
   "metadata": {},
   "outputs": [],
   "source": [
    "#5. 생성된 모델의 model.summary() 출력\n",
    "x_val = train_data[:20000]\n",
    "partial_x_train = train_data[20000:]\n",
    "\n",
    "y_val = train_labels[:20000]\n",
    "partial_y_train = train_labels[20000:]"
   ]
  },
  {
   "cell_type": "code",
   "execution_count": 14,
   "metadata": {},
   "outputs": [],
   "source": [
    "# 데이터를 벡터로 변환\n",
    "x_val = sequence.pad_sequences(x_val, maxlen=text_max_words)\n",
    "partial_x_train = sequence.pad_sequences(partial_x_train, maxlen=text_max_words)\n",
    "x_test = sequence.pad_sequences(test_data, maxlen=text_max_words)\n",
    "\n",
    "# 레이블의 자료형을 변경하여 불필요한 데이터 손실이 없게 변환\n",
    "#y_train = np.asarray(y_val).astype('float32')\n",
    "#partial_x_train = np.asarray(partial_y_train).astype('float32')\n",
    "#y_test = np.asarray(test_labels).astype('float32')"
   ]
  },
  {
   "cell_type": "markdown",
   "metadata": {},
   "source": [
    "3. 학습을 위해 데이터가 어떻게 가공/처리되었는지 기술 \n",
    " - 각 데이터마다 길이가 상이하므로 같은 길이로 맞추어 모델의 입력으로 사용하기 위해서 데이터 길이의 크기를 200으로 변경하였습니다.\n",
    "   (모든 단어를 같은 길이로 맞춰주는 이유는 모델에서 데이터를 사용하기 위해서는 고정된 길이로 만들어줘야 하기 때문입니다.)\n",
    " - 레이블의 데이터는 스칼라 형식이므로 데이터 연산시 불필요한 데이터 손실이 없도록 정수형에서 실수형으로 변경하였습니다."
   ]
  },
  {
   "cell_type": "markdown",
   "metadata": {},
   "source": [
    "4. 사용된 모델의 특징에 대한 기술 \n",
    " - 이번 모델에서 사용한 레이어 중 중점인 레이어는 Conv1D, LSTM입니다.\n",
    " - 위의 레이어의 특징은 앞에서 설명하였으므로 생략하도록 하겠습니다.\n",
    " - 이 모델의 장점은 LSTM을 단독으로 사용해서 엄청나게 긴 데이터를 처리하기에 무리가 있으니 CNN을 LSTM 앞에다 두어서 필요성이 높은 노드를      선정하여 짧은 데이터로 변환을 시켜 좀 더 효율적인 학습을 시키기 위해서 사용합니다."
   ]
  },
  {
   "cell_type": "code",
   "execution_count": 15,
   "metadata": {},
   "outputs": [],
   "source": [
    "model = Sequential()\n",
    "model.add(Embedding(max_features, 256, input_length=text_max_words))\n",
    "model.add(Dropout(0.2))\n",
    "model.add(Conv1D(256,\n",
    "                 3,\n",
    "                 padding='valid',\n",
    "                 activation='relu',\n",
    "                 strides=1))\n",
    "model.add(MaxPooling1D(pool_size=4))\n",
    "model.add(LSTM(128))\n",
    "model.add(Dense(1, activation='sigmoid'))"
   ]
  },
  {
   "cell_type": "code",
   "execution_count": 16,
   "metadata": {},
   "outputs": [],
   "source": [
    "model.compile(loss='binary_crossentropy', optimizer='adam', metrics=['accuracy'])"
   ]
  },
  {
   "cell_type": "code",
   "execution_count": 17,
   "metadata": {},
   "outputs": [
    {
     "name": "stdout",
     "output_type": "stream",
     "text": [
      "_________________________________________________________________\n",
      "Layer (type)                 Output Shape              Param #   \n",
      "=================================================================\n",
      "embedding_2 (Embedding)      (None, 200, 256)          1280000   \n",
      "_________________________________________________________________\n",
      "dropout_2 (Dropout)          (None, 200, 256)          0         \n",
      "_________________________________________________________________\n",
      "conv1d_2 (Conv1D)            (None, 198, 256)          196864    \n",
      "_________________________________________________________________\n",
      "max_pooling1d_2 (MaxPooling1 (None, 49, 256)           0         \n",
      "_________________________________________________________________\n",
      "lstm_2 (LSTM)                (None, 128)               197120    \n",
      "_________________________________________________________________\n",
      "dense_2 (Dense)              (None, 1)                 129       \n",
      "=================================================================\n",
      "Total params: 1,674,113\n",
      "Trainable params: 1,674,113\n",
      "Non-trainable params: 0\n",
      "_________________________________________________________________\n"
     ]
    }
   ],
   "source": [
    "#각 층마다 사용되는 파라미터의 값과 구성이 어떻게 되었는지 간단하게 알 수 있음\n",
    "model.summary()"
   ]
  },
  {
   "cell_type": "code",
   "execution_count": 18,
   "metadata": {},
   "outputs": [
    {
     "name": "stdout",
     "output_type": "stream",
     "text": [
      "Train on 20000 samples, validate on 5000 samples\n",
      "Epoch 1/25\n",
      "20000/20000 [==============================] - 662s 33ms/step - loss: 0.4863 - acc: 0.7384 - val_loss: 0.3276 - val_acc: 0.8688\n",
      "Epoch 2/25\n",
      "20000/20000 [==============================] - 657s 33ms/step - loss: 0.2563 - acc: 0.8977 - val_loss: 0.3254 - val_acc: 0.8706\n",
      "Epoch 3/25\n",
      "20000/20000 [==============================] - 656s 33ms/step - loss: 0.2038 - acc: 0.9216 - val_loss: 0.3151 - val_acc: 0.8740\n",
      "Epoch 4/25\n",
      "20000/20000 [==============================] - 631s 32ms/step - loss: 0.1704 - acc: 0.9365 - val_loss: 0.3545 - val_acc: 0.8612\n",
      "Epoch 5/25\n",
      "20000/20000 [==============================] - 633s 32ms/step - loss: 0.1193 - acc: 0.9601 - val_loss: 0.4239 - val_acc: 0.8620\n",
      "Epoch 6/25\n",
      "20000/20000 [==============================] - 632s 32ms/step - loss: 0.0812 - acc: 0.9748 - val_loss: 0.4830 - val_acc: 0.8598\n",
      "Epoch 7/25\n",
      "20000/20000 [==============================] - 635s 32ms/step - loss: 0.0689 - acc: 0.9773 - val_loss: 0.5342 - val_acc: 0.8464\n",
      "Epoch 8/25\n",
      "20000/20000 [==============================] - 634s 32ms/step - loss: 0.0530 - acc: 0.9828 - val_loss: 0.5457 - val_acc: 0.8556\n",
      "Epoch 9/25\n",
      "20000/20000 [==============================] - 639s 32ms/step - loss: 0.0484 - acc: 0.9841 - val_loss: 0.5833 - val_acc: 0.8514\n",
      "Epoch 10/25\n",
      "20000/20000 [==============================] - 651s 33ms/step - loss: 0.0312 - acc: 0.9911 - val_loss: 0.6387 - val_acc: 0.8548\n",
      "Epoch 11/25\n",
      "20000/20000 [==============================] - 650s 32ms/step - loss: 0.0233 - acc: 0.9926 - val_loss: 0.7471 - val_acc: 0.8416\n",
      "Epoch 12/25\n",
      "20000/20000 [==============================] - 644s 32ms/step - loss: 0.0188 - acc: 0.9949 - val_loss: 0.7654 - val_acc: 0.8502\n",
      "Epoch 13/25\n",
      "20000/20000 [==============================] - 642s 32ms/step - loss: 0.0220 - acc: 0.9935 - val_loss: 0.7152 - val_acc: 0.8470\n",
      "Epoch 14/25\n",
      "20000/20000 [==============================] - 647s 32ms/step - loss: 0.0388 - acc: 0.9867 - val_loss: 0.6622 - val_acc: 0.8498\n",
      "Epoch 15/25\n",
      "20000/20000 [==============================] - 651s 33ms/step - loss: 0.0139 - acc: 0.9958 - val_loss: 0.8910 - val_acc: 0.8390\n",
      "Epoch 16/25\n",
      "20000/20000 [==============================] - 643s 32ms/step - loss: 0.0255 - acc: 0.9914 - val_loss: 0.7694 - val_acc: 0.8512\n",
      "Epoch 17/25\n",
      "20000/20000 [==============================] - 649s 32ms/step - loss: 0.0095 - acc: 0.9972 - val_loss: 0.7575 - val_acc: 0.8534\n",
      "Epoch 18/25\n",
      "20000/20000 [==============================] - 644s 32ms/step - loss: 0.0039 - acc: 0.9994 - val_loss: 0.8562 - val_acc: 0.8534\n",
      "Epoch 19/25\n",
      "20000/20000 [==============================] - 649s 32ms/step - loss: 0.0039 - acc: 0.9991 - val_loss: 0.8952 - val_acc: 0.8540\n",
      "Epoch 20/25\n",
      "20000/20000 [==============================] - 638s 32ms/step - loss: 0.0028 - acc: 0.9993 - val_loss: 0.9139 - val_acc: 0.8528\n",
      "Epoch 21/25\n",
      "20000/20000 [==============================] - 645s 32ms/step - loss: 0.0040 - acc: 0.9988 - val_loss: 0.9717 - val_acc: 0.8556\n",
      "Epoch 22/25\n",
      "20000/20000 [==============================] - 643s 32ms/step - loss: 0.0183 - acc: 0.9941 - val_loss: 0.7914 - val_acc: 0.8546\n",
      "Epoch 23/25\n",
      "20000/20000 [==============================] - 630s 31ms/step - loss: 0.0167 - acc: 0.9947 - val_loss: 0.7976 - val_acc: 0.8538\n",
      "Epoch 24/25\n",
      "20000/20000 [==============================] - 552s 28ms/step - loss: 0.0115 - acc: 0.9960 - val_loss: 0.7801 - val_acc: 0.8616\n",
      "Epoch 25/25\n",
      "20000/20000 [==============================] - 550s 27ms/step - loss: 0.0073 - acc: 0.9978 - val_loss: 0.8348 - val_acc: 0.8568\n"
     ]
    }
   ],
   "source": [
    "#epoch은 최소 25회 이상 진행 \n",
    "hist = model.fit(x_val, y_val, epochs=25, batch_size=256, validation_data=(partial_x_train, partial_y_train))"
   ]
  },
  {
   "cell_type": "code",
   "execution_count": 19,
   "metadata": {},
   "outputs": [],
   "source": [
    "#그림으로 표현하기 위해서 history 데이터를 분리\n",
    "history_dict = hist.history\n",
    "\n",
    "acc = hist.history['acc']\n",
    "val_acc = hist.history['val_acc']\n",
    "loss = hist.history['loss']\n",
    "val_loss = hist.history['val_loss']\n",
    "\n",
    "epochs = range(1, len(acc) + 1)"
   ]
  },
  {
   "cell_type": "code",
   "execution_count": 20,
   "metadata": {},
   "outputs": [
    {
     "data": {
      "image/png": "[encoded data removed]",
      "text/plain": [
       "<Figure size 432x288 with 1 Axes>"
      ]
     },
     "metadata": {
      "needs_background": "light"
     },
     "output_type": "display_data"
    }
   ],
   "source": [
    "#손실을 그래프로 표시\n",
    "plt.plot(epochs, loss, 'bo', label='Training loss')\n",
    "plt.plot(epochs, val_loss, 'b', label='Validation loss')\n",
    "plt.title('Training and validation loss')\n",
    "plt.xlabel('Epochs')\n",
    "plt.ylabel('Loss')\n",
    "plt.legend()\n",
    "\n",
    "plt.show()"
   ]
  },
  {
   "cell_type": "code",
   "execution_count": 21,
   "metadata": {},
   "outputs": [
    {
     "data": {
      "image/png": "[encoded data removed]",
      "text/plain": [
       "<Figure size 432x288 with 1 Axes>"
      ]
     },
     "metadata": {
      "needs_background": "light"
     },
     "output_type": "display_data"
    }
   ],
   "source": [
    "# 그래프를 초기화\n",
    "plt.clf()  \n",
    "#정확도를 그래프로 표시\n",
    "plt.plot(epochs, acc, 'bo', label='Training acc')\n",
    "plt.plot(epochs, val_acc, 'b', label='Validation acc')\n",
    "plt.title('Training and validation accuracy')\n",
    "plt.xlabel('Epochs')\n",
    "plt.ylabel('Accuracy')\n",
    "plt.legend()\n",
    "\n",
    "plt.show()"
   ]
  },
  {
   "cell_type": "code",
   "execution_count": 23,
   "metadata": {},
   "outputs": [
    {
     "name": "stdout",
     "output_type": "stream",
     "text": [
      "25000/25000 [==============================] - 31s 1ms/step\n",
      "## evaluation loss and_metrics ##\n",
      "[0.8828116548156738, 0.8505600001907349]\n"
     ]
    }
   ],
   "source": [
    "# 6. 모델 평가하기\n",
    "loss_and_metrics = model.evaluate(x_test, test_labels, batch_size=256)\n",
    "print('## evaluation loss and_metrics ##')\n",
    "print(loss_and_metrics)"
   ]
  },
  {
   "cell_type": "markdown",
   "metadata": {},
   "source": [
    "# CNN_LSTM 종료"
   ]
  },
  {
   "cell_type": "code",
   "execution_count": null,
   "metadata": {},
   "outputs": [],
   "source": []
  }
 ],
 "metadata": {
  "kernelspec": {
   "display_name": "Python 3",
   "language": "python",
   "name": "python3"
  },
  "language_info": {
   "codemirror_mode": {
    "name": "ipython",
    "version": 3
   },
   "file_extension": ".py",
   "mimetype": "text/x-python",
   "name": "python",
   "nbconvert_exporter": "python",
   "pygments_lexer": "ipython3",
   "version": "3.6.8"
  }
 },
 "nbformat": 4,
 "nbformat_minor": 2
}
