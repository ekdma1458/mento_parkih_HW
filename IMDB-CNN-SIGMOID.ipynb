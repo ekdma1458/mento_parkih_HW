{
 "cells": [
  {
   "cell_type": "markdown",
   "metadata": {},
   "source": [
    "# IMDB-CNN-SIGMOD"
   ]
  },
  {
   "cell_type": "markdown",
   "metadata": {},
   "source": [
    "아래의 내용을 실행하고 나타난 결과입니다\n",
    "[0.679717543706894, 0.8784799999809265]"
   ]
  },
  {
   "cell_type": "markdown",
   "metadata": {},
   "source": [
    "1. 실제 데이터에 대한 상세 기술 \n",
    " - IMDB(인터넷 영화 데이터베이스)의 데이터에서 제공한 데이터들 중 양극단(긍정적,부정적) 리뷰의 단어들의 데이터셋입니다.\n",
    " - 훈련 데이터로는 2만 5000개의 데이터와 같은 수의 테스트 데이터로 구성되어 있으며 훈련 데이터를 2만개와 검증 데이터 5천개로 나누어 진행할    것입니다.\n",
    " - 데이터의 내용은 빈도수가 가장 높은 5000개 단어들로 구성하였습니다."
   ]
  },
  {
   "cell_type": "code",
   "execution_count": 3,
   "metadata": {},
   "outputs": [
    {
     "name": "stderr",
     "output_type": "stream",
     "text": [
      "Using TensorFlow backend.\n"
     ]
    }
   ],
   "source": [
    "#imdb에서 제공하는 데이터를 가져온는 과정\n",
    "from keras.datasets import imdb\n",
    "from keras.preprocessing import sequence\n",
    "from keras.models import Sequential\n",
    "from keras.layers import Dense, Embedding, LSTM\n",
    "from keras.layers import Flatten, Dropout\n",
    "from keras.layers import Conv1D, GlobalMaxPooling1D\n",
    "from keras.utils.np_utils import to_categorical\n",
    "import numpy as np\n",
    "\n",
    "max_features = 5000\n",
    "text_max_words = 200\n",
    "\n",
    "(train_data, train_labels), (test_data, test_labels) = imdb.load_data(num_words=max_features)"
   ]
  },
  {
   "cell_type": "code",
   "execution_count": 4,
   "metadata": {},
   "outputs": [
    {
     "name": "stdout",
     "output_type": "stream",
     "text": [
      "트레이닝 데이터 : 25000\n",
      "테스트 데이터 : 25000\n"
     ]
    }
   ],
   "source": [
    "#가져온 데이터의 갯수 파악\n",
    "print(\"트레이닝 데이터 :\", len(train_data))\n",
    "print(\"테스트 데이터 :\", len(test_data))"
   ]
  },
  {
   "cell_type": "code",
   "execution_count": 5,
   "metadata": {},
   "outputs": [
    {
     "name": "stdout",
     "output_type": "stream",
     "text": [
      "부정적인 내용\n"
     ]
    },
    {
     "data": {
      "text/plain": [
       "\"? this movie has many problem associated with it that makes it come off like a low budget class project from someone in film school i have to give it credit on its ? though many times throughout the movie i found myself laughing ? it was so bad at times that it was comical which made it a fun watch br br if you're looking for a low grade slasher movie with a twist of psychological horror and a ? of campy ? then pop a ? of popcorn ? some friends over and have some fun br br i agree with other comments that the sound is very bad dialog is next to impossible to follow much of the time and the soundtrack is kind of just there\""
      ]
     },
     "execution_count": 5,
     "metadata": {},
     "output_type": "execute_result"
    }
   ],
   "source": [
    "# 데이터 내용을 확인하기 위하여 index를 매핑시킬 수 있는 딕셔너리 생성\n",
    "word_index = imdb.get_word_index()\n",
    "reverse_word_index = dict([(value, key) for (key, value) in word_index.items()])\n",
    "# 첫번째 데이터에 있는 문자 확인과 이 내용이 긍정적인지 부정적인지 같은 인덱스에 존재하는 레이블을 이용하여 확인\n",
    "decoded_review = ' '.join([reverse_word_index.get(i - 3, '?') for i in train_data[9]])\n",
    "\n",
    "if train_labels[9] == 1 :\n",
    "    print(\"긍정적인 내용\")\n",
    "else:\n",
    "    print(\"부정적인 내용\")\n",
    "decoded_review"
   ]
  },
  {
   "cell_type": "markdown",
   "metadata": {},
   "source": [
    "2. 예측하고자 하는 방법/방향 기술 \n",
    " - 특정한 단어의 집합으로 이루어진 양극단 데이터를 학습시킨 모델에 데이터를 입력할 때에 그 데이터가 긍정인지 부정인지 예측하기위하여 진행    하였습니다."
   ]
  },
  {
   "cell_type": "code",
   "execution_count": 4,
   "metadata": {},
   "outputs": [],
   "source": [
    "#5. 생성된 모델의 model.summary() 출력\n",
    "x_val = train_data[:20000]\n",
    "partial_x_train = train_data[20000:]\n",
    "\n",
    "y_val = train_labels[:20000]\n",
    "partial_y_train = train_labels[20000:]"
   ]
  },
  {
   "cell_type": "code",
   "execution_count": 5,
   "metadata": {},
   "outputs": [],
   "source": [
    "# 데이터를 벡터로 변환\n",
    "x_val = sequence.pad_sequences(x_val, maxlen=text_max_words)\n",
    "partial_x_train = sequence.pad_sequences(partial_x_train, maxlen=text_max_words)\n",
    "x_test = sequence.pad_sequences(test_data, maxlen=text_max_words)\n",
    "\n",
    "# 레이블의 자료형을 변경하여 불필요한 데이터 손실이 없게 변환\n",
    "#y_train = np.asarray(y_val).astype('float32')\n",
    "#partial_x_train = np.asarray(partial_y_train).astype('float32')\n",
    "#y_test = np.asarray(test_labels).astype('float32')"
   ]
  },
  {
   "cell_type": "markdown",
   "metadata": {},
   "source": [
    "3. 학습을 위해 데이터가 어떻게 가공/처리되었는지 기술 \n",
    " - 각 데이터마다 길이가 상이하므로 같은 길이로 맞추어 모델의 입력으로 사용하기 위해서 데이터 길이의 크기를 200으로 변경하였습니다.\n",
    "   (모든 단어를 같은 길이로 맞춰주는 이유는 모델에서 데이터를 사용하기 위해서는 고정된 길이로 만들어줘야 하기 때문입니다.)\n",
    " - CNN모델에서 실수형을 쓰면 에러가 발생하기 때문에 레이블에 대한 데이터는 따로 가공하지 않았습니다. "
   ]
  },
  {
   "cell_type": "markdown",
   "metadata": {},
   "source": [
    "4. 사용된 모델의 특징에 대한 기술 \n",
    " - 이번 모델에서 사용한 레이어 중 중점인 레이어는 Conv1D입니다.\n",
    " - CNN은 기존의 Fully Connected를 형식을 가지고 있지만 특정 데이터일 경우 손실이 발생합니다. 이러한 단점을 보    완하하기 위한 모델입니다. \n",
    " - CNN은 위의 언급처럼 데이터의 형상을 유지할 수 있으며, 이미지의 공간 정보를 유지하면서 인접 이미지와의 특징    을 효과적으로 인식이 가능합니다."
   ]
  },
  {
   "cell_type": "code",
   "execution_count": 6,
   "metadata": {},
   "outputs": [],
   "source": [
    "model = Sequential()\n",
    "model.add(Embedding(max_features, 128, input_length=text_max_words))\n",
    "#DropOut은 거대한 망에서 투표를 하여 노드를 줄여주는 역할을 하는데 거대한 망에서 오버피팅 되는것을 방지할 수 있음\n",
    "#0.2 가중치만을 사용\n",
    "model.add(Dropout(0.2))\n",
    "#입력받을 데이터가 1차원이기 때문에 Conv1D를 사용\n",
    "#256종류의 마스크와 3의 커널을 이용\n",
    "model.add(Conv1D(256,\n",
    "                 3,\n",
    "                 padding='valid',\n",
    "                 activation='relu',\n",
    "                 strides=1))\n",
    "#학습되는 문맥을 보면서 특징되는 문맥을 뽑아주는 역할\n",
    "model.add(GlobalMaxPooling1D())\n",
    "model.add(Dense(128, activation='relu'))\n",
    "model.add(Dropout(0.2))\n",
    "model.add(Dense(1, activation='sigmoid'))"
   ]
  },
  {
   "cell_type": "code",
   "execution_count": 7,
   "metadata": {},
   "outputs": [],
   "source": [
    "model.compile(loss='binary_crossentropy', optimizer='adam', metrics=['accuracy'])"
   ]
  },
  {
   "cell_type": "code",
   "execution_count": 8,
   "metadata": {},
   "outputs": [
    {
     "name": "stdout",
     "output_type": "stream",
     "text": [
      "_________________________________________________________________\n",
      "Layer (type)                 Output Shape              Param #   \n",
      "=================================================================\n",
      "embedding_1 (Embedding)      (None, 200, 128)          640000    \n",
      "_________________________________________________________________\n",
      "dropout_1 (Dropout)          (None, 200, 128)          0         \n",
      "_________________________________________________________________\n",
      "conv1d_1 (Conv1D)            (None, 198, 256)          98560     \n",
      "_________________________________________________________________\n",
      "global_max_pooling1d_1 (Glob (None, 256)               0         \n",
      "_________________________________________________________________\n",
      "dense_1 (Dense)              (None, 128)               32896     \n",
      "_________________________________________________________________\n",
      "dropout_2 (Dropout)          (None, 128)               0         \n",
      "_________________________________________________________________\n",
      "dense_2 (Dense)              (None, 1)                 129       \n",
      "=================================================================\n",
      "Total params: 771,585\n",
      "Trainable params: 771,585\n",
      "Non-trainable params: 0\n",
      "_________________________________________________________________\n"
     ]
    }
   ],
   "source": [
    "#각 층마다 사용되는 파라미터의 값과 구성이 어떻게 되었는지 간단하게 알 수 있음\n",
    "model.summary()"
   ]
  },
  {
   "cell_type": "code",
   "execution_count": 10,
   "metadata": {},
   "outputs": [
    {
     "name": "stdout",
     "output_type": "stream",
     "text": [
      "Train on 20000 samples, validate on 5000 samples\n",
      "Epoch 1/25\n",
      "20000/20000 [==============================] - 547s 27ms/step - loss: 0.5986 - acc: 0.6657 - val_loss: 0.4079 - val_acc: 0.8168\n",
      "Epoch 2/25\n",
      "20000/20000 [==============================] - 585s 29ms/step - loss: 0.3233 - acc: 0.8606 - val_loss: 0.2968 - val_acc: 0.8722\n",
      "Epoch 3/25\n",
      "20000/20000 [==============================] - 585s 29ms/step - loss: 0.2128 - acc: 0.9168 - val_loss: 0.2862 - val_acc: 0.8784\n",
      "Epoch 4/25\n",
      "20000/20000 [==============================] - 572s 29ms/step - loss: 0.1394 - acc: 0.9520 - val_loss: 0.2870 - val_acc: 0.8870\n",
      "Epoch 5/25\n",
      "20000/20000 [==============================] - 580s 29ms/step - loss: 0.0836 - acc: 0.9755 - val_loss: 0.3367 - val_acc: 0.8772\n",
      "Epoch 6/25\n",
      "20000/20000 [==============================] - 580s 29ms/step - loss: 0.0466 - acc: 0.9890 - val_loss: 0.3546 - val_acc: 0.8820\n",
      "Epoch 7/25\n",
      "20000/20000 [==============================] - 580s 29ms/step - loss: 0.0232 - acc: 0.9963 - val_loss: 0.3897 - val_acc: 0.8810\n",
      "Epoch 8/25\n",
      "20000/20000 [==============================] - 584s 29ms/step - loss: 0.0137 - acc: 0.9986 - val_loss: 0.4261 - val_acc: 0.8806\n",
      "Epoch 9/25\n",
      "20000/20000 [==============================] - 583s 29ms/step - loss: 0.0080 - acc: 0.9994 - val_loss: 0.4508 - val_acc: 0.8804\n",
      "Epoch 10/25\n",
      "20000/20000 [==============================] - 575s 29ms/step - loss: 0.0061 - acc: 0.9994 - val_loss: 0.4812 - val_acc: 0.8810\n",
      "Epoch 11/25\n",
      "20000/20000 [==============================] - 573s 29ms/step - loss: 0.0038 - acc: 0.9996 - val_loss: 0.5014 - val_acc: 0.8822\n",
      "Epoch 12/25\n",
      "20000/20000 [==============================] - 580s 29ms/step - loss: 0.0025 - acc: 0.9999 - val_loss: 0.5168 - val_acc: 0.8790\n",
      "Epoch 13/25\n",
      "20000/20000 [==============================] - 572s 29ms/step - loss: 0.0019 - acc: 1.0000 - val_loss: 0.5377 - val_acc: 0.8826\n",
      "Epoch 14/25\n",
      "20000/20000 [==============================] - 581s 29ms/step - loss: 0.0014 - acc: 1.0000 - val_loss: 0.5714 - val_acc: 0.8788\n",
      "Epoch 15/25\n",
      "20000/20000 [==============================] - 587s 29ms/step - loss: 0.0028 - acc: 0.9996 - val_loss: 0.5704 - val_acc: 0.8778\n",
      "Epoch 16/25\n",
      "20000/20000 [==============================] - 579s 29ms/step - loss: 0.0014 - acc: 1.0000 - val_loss: 0.5899 - val_acc: 0.8808\n",
      "Epoch 17/25\n",
      "20000/20000 [==============================] - 577s 29ms/step - loss: 0.0011 - acc: 1.0000 - val_loss: 0.6063 - val_acc: 0.8782\n",
      "Epoch 18/25\n",
      "20000/20000 [==============================] - 582s 29ms/step - loss: 9.6818e-04 - acc: 0.9999 - val_loss: 0.6262 - val_acc: 0.8790\n",
      "Epoch 19/25\n",
      "20000/20000 [==============================] - 583s 29ms/step - loss: 8.5435e-04 - acc: 0.9999 - val_loss: 0.6250 - val_acc: 0.8794\n",
      "Epoch 20/25\n",
      "20000/20000 [==============================] - 579s 29ms/step - loss: 7.4155e-04 - acc: 1.0000 - val_loss: 0.6325 - val_acc: 0.8800\n",
      "Epoch 21/25\n",
      "20000/20000 [==============================] - 580s 29ms/step - loss: 6.2854e-04 - acc: 1.0000 - val_loss: 0.6451 - val_acc: 0.8786\n",
      "Epoch 22/25\n",
      "20000/20000 [==============================] - 583s 29ms/step - loss: 7.8646e-04 - acc: 0.9999 - val_loss: 0.6446 - val_acc: 0.8808\n",
      "Epoch 23/25\n",
      "20000/20000 [==============================] - 574s 29ms/step - loss: 5.0824e-04 - acc: 1.0000 - val_loss: 0.6480 - val_acc: 0.8814\n",
      "Epoch 24/25\n",
      "20000/20000 [==============================] - 580s 29ms/step - loss: 3.5079e-04 - acc: 1.0000 - val_loss: 0.6581 - val_acc: 0.8806\n",
      "Epoch 25/25\n",
      "20000/20000 [==============================] - 576s 29ms/step - loss: 3.6010e-04 - acc: 1.0000 - val_loss: 0.6672 - val_acc: 0.8822\n"
     ]
    }
   ],
   "source": [
    "#epoch은 최소 25회 이상 진행 \n",
    "hist = model.fit(x_val, y_val, epochs=25, batch_size=256, validation_data=(partial_x_train, partial_y_train))"
   ]
  },
  {
   "cell_type": "code",
   "execution_count": 16,
   "metadata": {},
   "outputs": [],
   "source": [
    "import matplotlib.pyplot as plt\n",
    "\n",
    "#그림으로 표현하기 위해서 history 데이터를 분리\n",
    "history_dict = hist.history\n",
    "\n",
    "acc = hist.history['acc']\n",
    "val_acc = hist.history['val_acc']\n",
    "loss = hist.history['loss']\n",
    "val_loss = hist.history['val_loss']\n",
    "\n",
    "epochs = range(1, len(acc) + 1)"
   ]
  },
  {
   "cell_type": "code",
   "execution_count": 17,
   "metadata": {},
   "outputs": [
    {
     "data": {
      "image/png": "[encoded data removed]",
      "text/plain": [
       "<Figure size 432x288 with 1 Axes>"
      ]
     },
     "metadata": {
      "needs_background": "light"
     },
     "output_type": "display_data"
    }
   ],
   "source": [
    "\n",
    "#손실을 그래프로 표시\n",
    "plt.plot(epochs, loss, 'bo', label='Training loss')\n",
    "plt.plot(epochs, val_loss, 'b', label='Validation loss')\n",
    "plt.title('Training and validation loss')\n",
    "plt.xlabel('Epochs')\n",
    "plt.ylabel('Loss')\n",
    "plt.legend()\n",
    "\n",
    "plt.show()"
   ]
  },
  {
   "cell_type": "code",
   "execution_count": 18,
   "metadata": {},
   "outputs": [
    {
     "data": {
      "image/png": "[encoded data removed]",
      "text/plain": [
       "<Figure size 432x288 with 1 Axes>"
      ]
     },
     "metadata": {
      "needs_background": "light"
     },
     "output_type": "display_data"
    }
   ],
   "source": [
    "# 그래프를 초기화\n",
    "plt.clf()  \n",
    "#정확도를 그래프로 표시\n",
    "plt.plot(epochs, acc, 'bo', label='Training acc')\n",
    "plt.plot(epochs, val_acc, 'b', label='Validation acc')\n",
    "plt.title('Training and validation accuracy')\n",
    "plt.xlabel('Epochs')\n",
    "plt.ylabel('Accuracy')\n",
    "plt.legend()\n",
    "\n",
    "plt.show()"
   ]
  },
  {
   "cell_type": "code",
   "execution_count": 20,
   "metadata": {},
   "outputs": [
    {
     "name": "stdout",
     "output_type": "stream",
     "text": [
      "25000/25000 [==============================] - 14s 545us/step\n",
      "## evaluation loss and_metrics ##\n",
      "[0.679717543706894, 0.8784799999809265]\n"
     ]
    }
   ],
   "source": [
    "# 6. 모델 평가하기\n",
    "loss_and_metrics = model.evaluate(x_test, test_labels, batch_size=64)\n",
    "print('## evaluation loss and_metrics ##')\n",
    "print(loss_and_metrics)"
   ]
  },
  {
   "cell_type": "markdown",
   "metadata": {},
   "source": [
    "# CNN 종료"
   ]
  },
  {
   "cell_type": "code",
   "execution_count": null,
   "metadata": {},
   "outputs": [],
   "source": []
  }
 ],
 "metadata": {
  "kernelspec": {
   "display_name": "Python 3",
   "language": "python",
   "name": "python3"
  },
  "language_info": {
   "codemirror_mode": {
    "name": "ipython",
    "version": 3
   },
   "file_extension": ".py",
   "mimetype": "text/x-python",
   "name": "python",
   "nbconvert_exporter": "python",
   "pygments_lexer": "ipython3",
   "version": "3.6.8"
  }
 },
 "nbformat": 4,
 "nbformat_minor": 2
}
